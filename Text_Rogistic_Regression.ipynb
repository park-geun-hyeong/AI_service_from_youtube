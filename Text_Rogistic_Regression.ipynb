{
  "nbformat": 4,
  "nbformat_minor": 0,
  "metadata": {
    "colab": {
      "name": "sentiment.ipynb",
      "provenance": [],
      "collapsed_sections": [],
      "mount_file_id": "1bJfUPZ8vpKnb5X2gFkuB4zFlIPLRmJiQ",
      "authorship_tag": "ABX9TyPqGWKYSQqq31JMXHuGRvzT",
      "include_colab_link": true
    },
    "kernelspec": {
      "name": "python3",
      "display_name": "Python 3"
    },
    "language_info": {
      "name": "python"
    },
    "widgets": {
      "application/vnd.jupyter.widget-state+json": {
        "6aa317aab7ff461e8efc3303b3e1d443": {
          "model_module": "@jupyter-widgets/controls",
          "model_name": "HBoxModel",
          "state": {
            "_view_name": "HBoxView",
            "_dom_classes": [],
            "_model_name": "HBoxModel",
            "_view_module": "@jupyter-widgets/controls",
            "_model_module_version": "1.5.0",
            "_view_count": null,
            "_view_module_version": "1.5.0",
            "box_style": "",
            "layout": "IPY_MODEL_8ff414cfa3934fafa3302ac85e26e89c",
            "_model_module": "@jupyter-widgets/controls",
            "children": [
              "IPY_MODEL_9a5c6f8fcfda4607aa057e160ad00303",
              "IPY_MODEL_e01999a3755d44be8a03b02f3c7bd28f"
            ]
          }
        },
        "8ff414cfa3934fafa3302ac85e26e89c": {
          "model_module": "@jupyter-widgets/base",
          "model_name": "LayoutModel",
          "state": {
            "_view_name": "LayoutView",
            "grid_template_rows": null,
            "right": null,
            "justify_content": null,
            "_view_module": "@jupyter-widgets/base",
            "overflow": null,
            "_model_module_version": "1.2.0",
            "_view_count": null,
            "flex_flow": null,
            "width": null,
            "min_width": null,
            "border": null,
            "align_items": null,
            "bottom": null,
            "_model_module": "@jupyter-widgets/base",
            "top": null,
            "grid_column": null,
            "overflow_y": null,
            "overflow_x": null,
            "grid_auto_flow": null,
            "grid_area": null,
            "grid_template_columns": null,
            "flex": null,
            "_model_name": "LayoutModel",
            "justify_items": null,
            "grid_row": null,
            "max_height": null,
            "align_content": null,
            "visibility": null,
            "align_self": null,
            "height": null,
            "min_height": null,
            "padding": null,
            "grid_auto_rows": null,
            "grid_gap": null,
            "max_width": null,
            "order": null,
            "_view_module_version": "1.2.0",
            "grid_template_areas": null,
            "object_position": null,
            "object_fit": null,
            "grid_auto_columns": null,
            "margin": null,
            "display": null,
            "left": null
          }
        },
        "9a5c6f8fcfda4607aa057e160ad00303": {
          "model_module": "@jupyter-widgets/controls",
          "model_name": "FloatProgressModel",
          "state": {
            "_view_name": "ProgressView",
            "style": "IPY_MODEL_02426e3ed0b140f6a8739868cda2ad6f",
            "_dom_classes": [],
            "description": "100%",
            "_model_name": "FloatProgressModel",
            "bar_style": "success",
            "max": 1000,
            "_view_module": "@jupyter-widgets/controls",
            "_model_module_version": "1.5.0",
            "value": 1000,
            "_view_count": null,
            "_view_module_version": "1.5.0",
            "orientation": "horizontal",
            "min": 0,
            "description_tooltip": null,
            "_model_module": "@jupyter-widgets/controls",
            "layout": "IPY_MODEL_964d8bc72c264078979eeefb980eee16"
          }
        },
        "e01999a3755d44be8a03b02f3c7bd28f": {
          "model_module": "@jupyter-widgets/controls",
          "model_name": "HTMLModel",
          "state": {
            "_view_name": "HTMLView",
            "style": "IPY_MODEL_5d1968a6cc384e6985a7085480893535",
            "_dom_classes": [],
            "description": "",
            "_model_name": "HTMLModel",
            "placeholder": "​",
            "_view_module": "@jupyter-widgets/controls",
            "_model_module_version": "1.5.0",
            "value": " 1000/1000 [03:43&lt;00:00,  4.48it/s]",
            "_view_count": null,
            "_view_module_version": "1.5.0",
            "description_tooltip": null,
            "_model_module": "@jupyter-widgets/controls",
            "layout": "IPY_MODEL_2902cf9556b94f15bbb8c6ec9dbfcdd6"
          }
        },
        "02426e3ed0b140f6a8739868cda2ad6f": {
          "model_module": "@jupyter-widgets/controls",
          "model_name": "ProgressStyleModel",
          "state": {
            "_view_name": "StyleView",
            "_model_name": "ProgressStyleModel",
            "description_width": "initial",
            "_view_module": "@jupyter-widgets/base",
            "_model_module_version": "1.5.0",
            "_view_count": null,
            "_view_module_version": "1.2.0",
            "bar_color": null,
            "_model_module": "@jupyter-widgets/controls"
          }
        },
        "964d8bc72c264078979eeefb980eee16": {
          "model_module": "@jupyter-widgets/base",
          "model_name": "LayoutModel",
          "state": {
            "_view_name": "LayoutView",
            "grid_template_rows": null,
            "right": null,
            "justify_content": null,
            "_view_module": "@jupyter-widgets/base",
            "overflow": null,
            "_model_module_version": "1.2.0",
            "_view_count": null,
            "flex_flow": null,
            "width": null,
            "min_width": null,
            "border": null,
            "align_items": null,
            "bottom": null,
            "_model_module": "@jupyter-widgets/base",
            "top": null,
            "grid_column": null,
            "overflow_y": null,
            "overflow_x": null,
            "grid_auto_flow": null,
            "grid_area": null,
            "grid_template_columns": null,
            "flex": null,
            "_model_name": "LayoutModel",
            "justify_items": null,
            "grid_row": null,
            "max_height": null,
            "align_content": null,
            "visibility": null,
            "align_self": null,
            "height": null,
            "min_height": null,
            "padding": null,
            "grid_auto_rows": null,
            "grid_gap": null,
            "max_width": null,
            "order": null,
            "_view_module_version": "1.2.0",
            "grid_template_areas": null,
            "object_position": null,
            "object_fit": null,
            "grid_auto_columns": null,
            "margin": null,
            "display": null,
            "left": null
          }
        },
        "5d1968a6cc384e6985a7085480893535": {
          "model_module": "@jupyter-widgets/controls",
          "model_name": "DescriptionStyleModel",
          "state": {
            "_view_name": "StyleView",
            "_model_name": "DescriptionStyleModel",
            "description_width": "",
            "_view_module": "@jupyter-widgets/base",
            "_model_module_version": "1.5.0",
            "_view_count": null,
            "_view_module_version": "1.2.0",
            "_model_module": "@jupyter-widgets/controls"
          }
        },
        "2902cf9556b94f15bbb8c6ec9dbfcdd6": {
          "model_module": "@jupyter-widgets/base",
          "model_name": "LayoutModel",
          "state": {
            "_view_name": "LayoutView",
            "grid_template_rows": null,
            "right": null,
            "justify_content": null,
            "_view_module": "@jupyter-widgets/base",
            "overflow": null,
            "_model_module_version": "1.2.0",
            "_view_count": null,
            "flex_flow": null,
            "width": null,
            "min_width": null,
            "border": null,
            "align_items": null,
            "bottom": null,
            "_model_module": "@jupyter-widgets/base",
            "top": null,
            "grid_column": null,
            "overflow_y": null,
            "overflow_x": null,
            "grid_auto_flow": null,
            "grid_area": null,
            "grid_template_columns": null,
            "flex": null,
            "_model_name": "LayoutModel",
            "justify_items": null,
            "grid_row": null,
            "max_height": null,
            "align_content": null,
            "visibility": null,
            "align_self": null,
            "height": null,
            "min_height": null,
            "padding": null,
            "grid_auto_rows": null,
            "grid_gap": null,
            "max_width": null,
            "order": null,
            "_view_module_version": "1.2.0",
            "grid_template_areas": null,
            "object_position": null,
            "object_fit": null,
            "grid_auto_columns": null,
            "margin": null,
            "display": null,
            "left": null
          }
        }
      }
    }
  },
  "cells": [
    {
      "cell_type": "markdown",
      "metadata": {
        "id": "view-in-github",
        "colab_type": "text"
      },
      "source": [
        "<a href=\"https://colab.research.google.com/github/park-geun-hyeong/AI_service_from_youtube/blob/main/Text_Rogistic_Regression.ipynb\" target=\"_parent\"><img src=\"https://colab.research.google.com/assets/colab-badge.svg\" alt=\"Open In Colab\"/></a>"
      ]
    },
    {
      "cell_type": "markdown",
      "metadata": {
        "id": "wCrw2hE4XTMk"
      },
      "source": [
        "## Unzip file"
      ]
    },
    {
      "cell_type": "code",
      "metadata": {
        "id": "YG9y71k_R5ZE"
      },
      "source": [
        "import os \n",
        "\n",
        "path = '/content/drive/MyDrive/PyTorch/sentiment'\n",
        "os.chdir(path)"
      ],
      "execution_count": 4,
      "outputs": []
    },
    {
      "cell_type": "code",
      "metadata": {
        "colab": {
          "base_uri": "https://localhost:8080/"
        },
        "id": "4f10Wd6nSI0r",
        "outputId": "0447cd51-01f8-4622-df27-59fc323aa4af"
      },
      "source": [
        "os.listdir(path)"
      ],
      "execution_count": null,
      "outputs": [
        {
          "output_type": "execute_result",
          "data": {
            "text/plain": [
              "['sentiment.ipynb', 'aclImdb_v1.tar.gz']"
            ]
          },
          "metadata": {
            "tags": []
          },
          "execution_count": 4
        }
      ]
    },
    {
      "cell_type": "code",
      "metadata": {
        "id": "x4_z2QBCSTiA"
      },
      "source": [
        "!tar xvzf  /content/drive/MyDrive/PyTorch/sentiment/aclImdb_v1.tar.gz"
      ],
      "execution_count": null,
      "outputs": []
    },
    {
      "cell_type": "code",
      "metadata": {
        "colab": {
          "base_uri": "https://localhost:8080/"
        },
        "id": "ONtMtRo8WxTi",
        "outputId": "406fc82d-8f4c-4f52-82a2-e83161d1dc70"
      },
      "source": [
        "! pip install pyprind"
      ],
      "execution_count": null,
      "outputs": [
        {
          "output_type": "stream",
          "text": [
            "Collecting pyprind\n",
            "  Downloading https://files.pythonhosted.org/packages/1e/30/e76fb0c45da8aef49ea8d2a90d4e7a6877b45894c25f12fb961f009a891e/PyPrind-2.11.2-py3-none-any.whl\n",
            "Installing collected packages: pyprind\n",
            "Successfully installed pyprind-2.11.2\n"
          ],
          "name": "stdout"
        }
      ]
    },
    {
      "cell_type": "code",
      "metadata": {
        "id": "ntAyK_rkXbQV"
      },
      "source": [
        "import pandas as pd\n",
        "import numpy as np"
      ],
      "execution_count": 2,
      "outputs": []
    },
    {
      "cell_type": "code",
      "metadata": {
        "id": "-ZF4mTVQXg1r"
      },
      "source": [
        "basepath = '/content/drive/MyDrive/PyTorch/sentiment/aclImdb'"
      ],
      "execution_count": null,
      "outputs": []
    },
    {
      "cell_type": "markdown",
      "metadata": {
        "id": "8VQ-qVVwXY1q"
      },
      "source": [
        "## from txt file to csv file"
      ]
    },
    {
      "cell_type": "code",
      "metadata": {
        "colab": {
          "base_uri": "https://localhost:8080/"
        },
        "id": "p0YHdVuBXpI_",
        "outputId": "d39d64e7-4757-4179-eda7-3f01f6e27068"
      },
      "source": [
        "labels = {'neg':0,'pos':1}\n",
        "pbar = pyprind.ProgBar(50000)\n",
        "\n",
        "df = pd.DataFrame()\n",
        "for s in ('train','test'):\n",
        "    for i in ('neg','pos'):\n",
        "        path = os.path.join(basepath,s,i)\n",
        "        for file in sorted(os.listdir(path)):\n",
        "            with open(os.path.join(path,file),'r',encoding='utf-8') as infile:\n",
        "                txt = infile.read()\n",
        "            df=df.append([[txt,labels[i]]],ignore_index=True)\n",
        "            pbar.update()\n",
        "\n",
        "df.columns=['text','sentiment']    \n",
        "                "
      ],
      "execution_count": null,
      "outputs": [
        {
          "output_type": "stream",
          "text": [
            "0% [##############################] 100% | ETA: 00:00:00\n",
            "Total time elapsed: 00:02:47\n"
          ],
          "name": "stderr"
        }
      ]
    },
    {
      "cell_type": "code",
      "metadata": {
        "id": "6-7MOsJSZAjl"
      },
      "source": [
        "np.random.seed(0)\n",
        "df = df.reindex(np.random.permutation(df.index))"
      ],
      "execution_count": null,
      "outputs": []
    },
    {
      "cell_type": "code",
      "metadata": {
        "id": "aiuOj3jeaFRs"
      },
      "source": [
        "df.to_csv('sentiment.csv',index=False,encoding='utf-8')"
      ],
      "execution_count": null,
      "outputs": []
    },
    {
      "cell_type": "code",
      "metadata": {
        "id": "I0SvyTUxaL8o"
      },
      "source": [
        "df = pd.read_csv('sentiment.csv',encoding='utf-8')"
      ],
      "execution_count": 5,
      "outputs": []
    },
    {
      "cell_type": "markdown",
      "metadata": {
        "id": "Tl-ScK4gXg1a"
      },
      "source": [
        "## Data"
      ]
    },
    {
      "cell_type": "code",
      "metadata": {
        "colab": {
          "base_uri": "https://localhost:8080/",
          "height": 195
        },
        "id": "ZXN9Mkl7uUEM",
        "outputId": "6bcb2099-069a-4948-a34b-b0fabd746a98"
      },
      "source": [
        "df.head()"
      ],
      "execution_count": 6,
      "outputs": [
        {
          "output_type": "execute_result",
          "data": {
            "text/html": [
              "<div>\n",
              "<style scoped>\n",
              "    .dataframe tbody tr th:only-of-type {\n",
              "        vertical-align: middle;\n",
              "    }\n",
              "\n",
              "    .dataframe tbody tr th {\n",
              "        vertical-align: top;\n",
              "    }\n",
              "\n",
              "    .dataframe thead th {\n",
              "        text-align: right;\n",
              "    }\n",
              "</style>\n",
              "<table border=\"1\" class=\"dataframe\">\n",
              "  <thead>\n",
              "    <tr style=\"text-align: right;\">\n",
              "      <th></th>\n",
              "      <th>text</th>\n",
              "      <th>sentiment</th>\n",
              "    </tr>\n",
              "  </thead>\n",
              "  <tbody>\n",
              "    <tr>\n",
              "      <th>0</th>\n",
              "      <td>Watching a videotaped replay of about 8 variou...</td>\n",
              "      <td>0</td>\n",
              "    </tr>\n",
              "    <tr>\n",
              "      <th>1</th>\n",
              "      <td>It's easy to make really general comments abou...</td>\n",
              "      <td>1</td>\n",
              "    </tr>\n",
              "    <tr>\n",
              "      <th>2</th>\n",
              "      <td>Reading the comments I am struck by the obviou...</td>\n",
              "      <td>1</td>\n",
              "    </tr>\n",
              "    <tr>\n",
              "      <th>3</th>\n",
              "      <td>Frank Tashlin's 'Censored' is a so-so Private ...</td>\n",
              "      <td>0</td>\n",
              "    </tr>\n",
              "    <tr>\n",
              "      <th>4</th>\n",
              "      <td>GREAT, Chris Diamantopoulos has got to be the ...</td>\n",
              "      <td>1</td>\n",
              "    </tr>\n",
              "  </tbody>\n",
              "</table>\n",
              "</div>"
            ],
            "text/plain": [
              "                                                text  sentiment\n",
              "0  Watching a videotaped replay of about 8 variou...          0\n",
              "1  It's easy to make really general comments abou...          1\n",
              "2  Reading the comments I am struck by the obviou...          1\n",
              "3  Frank Tashlin's 'Censored' is a so-so Private ...          0\n",
              "4  GREAT, Chris Diamantopoulos has got to be the ...          1"
            ]
          },
          "metadata": {
            "tags": []
          },
          "execution_count": 6
        }
      ]
    },
    {
      "cell_type": "code",
      "metadata": {
        "colab": {
          "base_uri": "https://localhost:8080/"
        },
        "id": "TmNAJ6gtaPgk",
        "outputId": "346c1e6e-6754-4c2f-c671-eeabf5365b4d"
      },
      "source": [
        "df.sentiment.value_counts()"
      ],
      "execution_count": 7,
      "outputs": [
        {
          "output_type": "execute_result",
          "data": {
            "text/plain": [
              "1    25000\n",
              "0    25000\n",
              "Name: sentiment, dtype: int64"
            ]
          },
          "metadata": {
            "tags": []
          },
          "execution_count": 7
        }
      ]
    },
    {
      "cell_type": "markdown",
      "metadata": {
        "id": "Eda1sXSGXjIP"
      },
      "source": [
        "## Preprocessing Text"
      ]
    },
    {
      "cell_type": "code",
      "metadata": {
        "id": "pqS-yf5OwiHo"
      },
      "source": [
        "from bs4 import BeautifulSoup\n",
        "import re"
      ],
      "execution_count": 8,
      "outputs": []
    },
    {
      "cell_type": "code",
      "metadata": {
        "colab": {
          "base_uri": "https://localhost:8080/"
        },
        "id": "ioPuwrn92XIG",
        "outputId": "a99b90ee-506b-404f-f7e3-b2aebe83120f"
      },
      "source": [
        "! pip install nltk"
      ],
      "execution_count": 9,
      "outputs": [
        {
          "output_type": "stream",
          "text": [
            "Requirement already satisfied: nltk in /usr/local/lib/python3.7/dist-packages (3.2.5)\n",
            "Requirement already satisfied: six in /usr/local/lib/python3.7/dist-packages (from nltk) (1.15.0)\n"
          ],
          "name": "stdout"
        }
      ]
    },
    {
      "cell_type": "code",
      "metadata": {
        "colab": {
          "base_uri": "https://localhost:8080/"
        },
        "id": "Uxv8D3fr2d7S",
        "outputId": "e36016ce-6965-48d0-bd56-24775d1ce665"
      },
      "source": [
        "import nltk\n",
        "nltk.download('stopwords')"
      ],
      "execution_count": 10,
      "outputs": [
        {
          "output_type": "stream",
          "text": [
            "[nltk_data] Downloading package stopwords to /root/nltk_data...\n",
            "[nltk_data]   Package stopwords is already up-to-date!\n"
          ],
          "name": "stdout"
        },
        {
          "output_type": "execute_result",
          "data": {
            "text/plain": [
              "True"
            ]
          },
          "metadata": {
            "tags": []
          },
          "execution_count": 10
        }
      ]
    },
    {
      "cell_type": "code",
      "metadata": {
        "id": "nCtFtzmx2SE5"
      },
      "source": [
        "from nltk.corpus import stopwords\n",
        "stopwords = stopwords.words('english')"
      ],
      "execution_count": 11,
      "outputs": []
    },
    {
      "cell_type": "code",
      "metadata": {
        "id": "zVIRzqBbOSoF"
      },
      "source": [
        "def preprocessing(sentence):\n",
        "    text = sentence.lower()\n",
        "    text = BeautifulSoup(text,'html.parser')\n",
        "    text = re.sub('[^A-Za-z]',' ',text.text) \n",
        "    text = [a for a in text.split() if a not in stopwords]\n",
        "\n",
        "    return ' '.join(text)"
      ],
      "execution_count": 12,
      "outputs": []
    },
    {
      "cell_type": "code",
      "metadata": {
        "id": "oal79rrJPgj5"
      },
      "source": [
        "texts = df.text"
      ],
      "execution_count": 13,
      "outputs": []
    },
    {
      "cell_type": "code",
      "metadata": {
        "id": "XvWFO38KPw7W"
      },
      "source": [
        "cleaned_texts = texts.apply(preprocessing)"
      ],
      "execution_count": 14,
      "outputs": []
    },
    {
      "cell_type": "code",
      "metadata": {
        "id": "vE7xHHcFP2Eq"
      },
      "source": [
        "df['text'] = cleaned_texts"
      ],
      "execution_count": 15,
      "outputs": []
    },
    {
      "cell_type": "code",
      "metadata": {
        "colab": {
          "base_uri": "https://localhost:8080/",
          "height": 402
        },
        "id": "7JuTvlQwQC30",
        "outputId": "fdcf28ca-7785-44b1-edea-a9c2ce4cb040"
      },
      "source": [
        "df"
      ],
      "execution_count": 16,
      "outputs": [
        {
          "output_type": "execute_result",
          "data": {
            "text/html": [
              "<div>\n",
              "<style scoped>\n",
              "    .dataframe tbody tr th:only-of-type {\n",
              "        vertical-align: middle;\n",
              "    }\n",
              "\n",
              "    .dataframe tbody tr th {\n",
              "        vertical-align: top;\n",
              "    }\n",
              "\n",
              "    .dataframe thead th {\n",
              "        text-align: right;\n",
              "    }\n",
              "</style>\n",
              "<table border=\"1\" class=\"dataframe\">\n",
              "  <thead>\n",
              "    <tr style=\"text-align: right;\">\n",
              "      <th></th>\n",
              "      <th>text</th>\n",
              "      <th>sentiment</th>\n",
              "    </tr>\n",
              "  </thead>\n",
              "  <tbody>\n",
              "    <tr>\n",
              "      <th>0</th>\n",
              "      <td>watching videotaped replay various spider man ...</td>\n",
              "      <td>0</td>\n",
              "    </tr>\n",
              "    <tr>\n",
              "      <th>1</th>\n",
              "      <td>easy make really general comments film like fa...</td>\n",
              "      <td>1</td>\n",
              "    </tr>\n",
              "    <tr>\n",
              "      <th>2</th>\n",
              "      <td>reading comments struck obvious effect wonderf...</td>\n",
              "      <td>1</td>\n",
              "    </tr>\n",
              "    <tr>\n",
              "      <th>3</th>\n",
              "      <td>frank tashlin censored private snafu short aim...</td>\n",
              "      <td>0</td>\n",
              "    </tr>\n",
              "    <tr>\n",
              "      <th>4</th>\n",
              "      <td>great chris diamantopoulos got best robim will...</td>\n",
              "      <td>1</td>\n",
              "    </tr>\n",
              "    <tr>\n",
              "      <th>...</th>\n",
              "      <td>...</td>\n",
              "      <td>...</td>\n",
              "    </tr>\n",
              "    <tr>\n",
              "      <th>49995</th>\n",
              "      <td>ho ho homicidal maniac spirited tour de force ...</td>\n",
              "      <td>1</td>\n",
              "    </tr>\n",
              "    <tr>\n",
              "      <th>49996</th>\n",
              "      <td>opening shot consequences love perfectly sets ...</td>\n",
              "      <td>1</td>\n",
              "    </tr>\n",
              "    <tr>\n",
              "      <th>49997</th>\n",
              "      <td>alice enters world wonder kind wonder remember...</td>\n",
              "      <td>1</td>\n",
              "    </tr>\n",
              "    <tr>\n",
              "      <th>49998</th>\n",
              "      <td>breezy highly entertaining drama excellent cas...</td>\n",
              "      <td>1</td>\n",
              "    </tr>\n",
              "    <tr>\n",
              "      <th>49999</th>\n",
              "      <td>absolutely worst film yet burton seems getting...</td>\n",
              "      <td>0</td>\n",
              "    </tr>\n",
              "  </tbody>\n",
              "</table>\n",
              "<p>50000 rows × 2 columns</p>\n",
              "</div>"
            ],
            "text/plain": [
              "                                                    text  sentiment\n",
              "0      watching videotaped replay various spider man ...          0\n",
              "1      easy make really general comments film like fa...          1\n",
              "2      reading comments struck obvious effect wonderf...          1\n",
              "3      frank tashlin censored private snafu short aim...          0\n",
              "4      great chris diamantopoulos got best robim will...          1\n",
              "...                                                  ...        ...\n",
              "49995  ho ho homicidal maniac spirited tour de force ...          1\n",
              "49996  opening shot consequences love perfectly sets ...          1\n",
              "49997  alice enters world wonder kind wonder remember...          1\n",
              "49998  breezy highly entertaining drama excellent cas...          1\n",
              "49999  absolutely worst film yet burton seems getting...          0\n",
              "\n",
              "[50000 rows x 2 columns]"
            ]
          },
          "metadata": {
            "tags": []
          },
          "execution_count": 16
        }
      ]
    },
    {
      "cell_type": "code",
      "metadata": {
        "colab": {
          "base_uri": "https://localhost:8080/",
          "height": 266
        },
        "id": "ugsZnAUqQFQz",
        "outputId": "ef87accd-cbc8-409a-d5c9-a1cac6c6e54d"
      },
      "source": [
        "df.text[0]"
      ],
      "execution_count": 17,
      "outputs": [
        {
          "output_type": "execute_result",
          "data": {
            "application/vnd.google.colaboratory.intrinsic+json": {
              "type": "string"
            },
            "text/plain": [
              "'watching videotaped replay various spider man cartoons made realize stomach first came old school spider man cartoon best still remains best get psychedelic version terrible give traditional villains please acting new stuff lousy read sheet either feeling overacting paul soles guy best voice acting spider man one comes close watching secret wars great idea cartoon mini series made wince dr doom sounds like comedy version bela lugosi scene red skull doc ock red skull german accent ock heavy russian old marvel comic hero series much better voice acting iron man sounded like wearing iron mask captain america sounded authoritative like teenage kid paul frees thing best thing ever old voice actors pioneers never anyone like ever hear mel blanc son way replicate dad animation clunky okay fancy character shadings nicely painted backrounds sometimes say less movement movement looks bad sometimes let computer take movements become robotic really think animators know betweeners stories badly written lines give heroes horrible example heroes teamed together first time start fighting secret wars lame excuse got disagreement see hero dark unknown mysterious like punisher thing iron man hold tempers ridiculous torch joins another later comic trends get heroes square seconds everyone wants see stuff give better reason fight maybe pulled hey tell lame reasons another badly written scene wedding harry osborne unmasks spoil peter wedding whole scenario awful last certainly least another critic calls juvenile violence meaning punches secret wars lizard carefully ducked thing charge thing punches bad guys across entire block comics must simply revert lifting heavy things subduing bad guy grabbing hold cartoons sure cartoons made strictly us adults kids punching mommy daddy believe type violence blow things cartoons include kid political correctness came fashion saw cartoons punching wrong punch chops really less violence world today slick crafty new cartoons took punch find insulting watch new stuff written punch could hurt kids enjoy cartoons want seen enough rating'"
            ]
          },
          "metadata": {
            "tags": []
          },
          "execution_count": 17
        }
      ]
    },
    {
      "cell_type": "markdown",
      "metadata": {
        "id": "wYwX8Dn-Xnd7"
      },
      "source": [
        "## Text Tokenizer"
      ]
    },
    {
      "cell_type": "code",
      "metadata": {
        "id": "Kg2bILkyQN2K"
      },
      "source": [
        "from sklearn.feature_extraction.text import CountVectorizer"
      ],
      "execution_count": 18,
      "outputs": []
    },
    {
      "cell_type": "code",
      "metadata": {
        "id": "liGOzKwtRCTW"
      },
      "source": [
        "cv = CountVectorizer(analyzer='word',max_features=10000)"
      ],
      "execution_count": 19,
      "outputs": []
    },
    {
      "cell_type": "code",
      "metadata": {
        "id": "9rvWftiOROV5"
      },
      "source": [
        "text_cv = cv.fit_transform(df.text)"
      ],
      "execution_count": 20,
      "outputs": []
    },
    {
      "cell_type": "code",
      "metadata": {
        "colab": {
          "base_uri": "https://localhost:8080/"
        },
        "id": "OAig9NJeRoRw",
        "outputId": "2307f312-7efe-4e70-d42e-4b40e2f08973"
      },
      "source": [
        "text_cv.shape"
      ],
      "execution_count": 21,
      "outputs": [
        {
          "output_type": "execute_result",
          "data": {
            "text/plain": [
              "(50000, 10000)"
            ]
          },
          "metadata": {
            "tags": []
          },
          "execution_count": 21
        }
      ]
    },
    {
      "cell_type": "code",
      "metadata": {
        "id": "zvy9weNNR_NR"
      },
      "source": [
        "from sklearn.feature_extraction.text import TfidfTransformer "
      ],
      "execution_count": 22,
      "outputs": []
    },
    {
      "cell_type": "code",
      "metadata": {
        "id": "jmOEl-2sSldH"
      },
      "source": [
        "tfid = TfidfTransformer()"
      ],
      "execution_count": 26,
      "outputs": []
    },
    {
      "cell_type": "code",
      "metadata": {
        "id": "b_8uEGyMSnYu"
      },
      "source": [
        "text_tfid = tfid.fit_transform(text_cv).toarray()"
      ],
      "execution_count": 27,
      "outputs": []
    },
    {
      "cell_type": "code",
      "metadata": {
        "colab": {
          "base_uri": "https://localhost:8080/"
        },
        "id": "HP1S_J8cSyFH",
        "outputId": "a48d4dd0-a911-4c95-dc2c-b5b8599bada1"
      },
      "source": [
        "text_tfid.shape"
      ],
      "execution_count": 28,
      "outputs": [
        {
          "output_type": "execute_result",
          "data": {
            "text/plain": [
              "(50000, 10000)"
            ]
          },
          "metadata": {
            "tags": []
          },
          "execution_count": 28
        }
      ]
    },
    {
      "cell_type": "code",
      "metadata": {
        "id": "QmWO2S7XSzvt"
      },
      "source": [
        "x = text_tfid"
      ],
      "execution_count": 29,
      "outputs": []
    },
    {
      "cell_type": "code",
      "metadata": {
        "id": "d4zlo0aqTIbh"
      },
      "source": [
        "y = df.sentiment.values"
      ],
      "execution_count": 30,
      "outputs": []
    },
    {
      "cell_type": "code",
      "metadata": {
        "colab": {
          "base_uri": "https://localhost:8080/"
        },
        "id": "p6Pb_l1nTKVQ",
        "outputId": "6db6e49f-9a48-4486-d9fd-b301721fa683"
      },
      "source": [
        "x.shape, y.shape"
      ],
      "execution_count": 31,
      "outputs": [
        {
          "output_type": "execute_result",
          "data": {
            "text/plain": [
              "((50000, 10000), (50000,))"
            ]
          },
          "metadata": {
            "tags": []
          },
          "execution_count": 31
        }
      ]
    },
    {
      "cell_type": "code",
      "metadata": {
        "colab": {
          "base_uri": "https://localhost:8080/"
        },
        "id": "6tlAkXahTPgy",
        "outputId": "b4f941b8-10bd-4cb1-a841-24bcfa8c7a84"
      },
      "source": [
        "type(x), type(y)"
      ],
      "execution_count": 32,
      "outputs": [
        {
          "output_type": "execute_result",
          "data": {
            "text/plain": [
              "(numpy.ndarray, numpy.ndarray)"
            ]
          },
          "metadata": {
            "tags": []
          },
          "execution_count": 32
        }
      ]
    },
    {
      "cell_type": "code",
      "metadata": {
        "id": "dnGjvc-sTSRs"
      },
      "source": [
        "x_train = x[:25000]\n",
        "y_train = y[:25000]\n",
        "\n",
        "x_test = x[25000:]\n",
        "y_test = y[25000:]"
      ],
      "execution_count": 33,
      "outputs": []
    },
    {
      "cell_type": "code",
      "metadata": {
        "id": "bmvFmC7BTix8"
      },
      "source": [
        "y_train = y_train[:,np.newaxis]\n",
        "y_test = y_test[:,np.newaxis]"
      ],
      "execution_count": 34,
      "outputs": []
    },
    {
      "cell_type": "code",
      "metadata": {
        "id": "mJ9IAhz3W-l7"
      },
      "source": [
        "import torch\n",
        "import torch.nn as nn\n",
        "import torch.nn.functional as F\n",
        "import torch.optim as optim"
      ],
      "execution_count": 36,
      "outputs": []
    },
    {
      "cell_type": "code",
      "metadata": {
        "id": "H4tnkmE-UiN4"
      },
      "source": [
        "x_train_tensor = torch.from_numpy(x_train).float()\n",
        "y_train_tensor = torch.from_numpy(y_train).float()\n",
        "\n",
        "x_test_tensor = torch.from_numpy(x_test).float()\n",
        "y_test_tensor = torch.from_numpy(y_test).float()"
      ],
      "execution_count": 55,
      "outputs": []
    },
    {
      "cell_type": "code",
      "metadata": {
        "colab": {
          "base_uri": "https://localhost:8080/"
        },
        "id": "oY_ACfiYTqlx",
        "outputId": "79481e6c-b9bd-4bbd-e3e0-77ecda8df4cc"
      },
      "source": [
        "x_train_tensor.shape, y_train_tensor.shape, x_test_tensor.shape, y_test_tensor.shape"
      ],
      "execution_count": 91,
      "outputs": [
        {
          "output_type": "execute_result",
          "data": {
            "text/plain": [
              "(torch.Size([25000, 5000]),\n",
              " torch.Size([25000, 1]),\n",
              " torch.Size([25000, 5000]),\n",
              " torch.Size([25000, 1]))"
            ]
          },
          "metadata": {
            "tags": []
          },
          "execution_count": 91
        }
      ]
    },
    {
      "cell_type": "markdown",
      "metadata": {
        "id": "a16RRa-nXvoi"
      },
      "source": [
        "## Model"
      ]
    },
    {
      "cell_type": "code",
      "metadata": {
        "id": "G_R5adHMT7Ra"
      },
      "source": [
        "model = nn.Sequential(\n",
        "\n",
        "    nn.Linear(10000,1),\n",
        "    nn.Sigmoid()\n",
        ")"
      ],
      "execution_count": 39,
      "outputs": []
    },
    {
      "cell_type": "code",
      "metadata": {
        "id": "ctTjnCTeT1F5"
      },
      "source": [
        "optimizer = optim.Adam(model.parameters(),lr=0.01)"
      ],
      "execution_count": 40,
      "outputs": []
    },
    {
      "cell_type": "code",
      "metadata": {
        "id": "C7GKkQW0UGCp"
      },
      "source": [
        "from tqdm import tqdm_notebook"
      ],
      "execution_count": 41,
      "outputs": []
    },
    {
      "cell_type": "code",
      "metadata": {
        "colab": {
          "base_uri": "https://localhost:8080/"
        },
        "id": "kWVV6JvXXGII",
        "outputId": "733745a1-879d-4034-86b0-41757d21be74"
      },
      "source": [
        "import gc\n",
        "gc.collect()"
      ],
      "execution_count": 42,
      "outputs": [
        {
          "output_type": "execute_result",
          "data": {
            "text/plain": [
              "211"
            ]
          },
          "metadata": {
            "tags": []
          },
          "execution_count": 42
        }
      ]
    },
    {
      "cell_type": "markdown",
      "metadata": {
        "id": "1jCJIdmDXyTa"
      },
      "source": [
        "## Train"
      ]
    },
    {
      "cell_type": "code",
      "metadata": {
        "colab": {
          "base_uri": "https://localhost:8080/",
          "height": 295,
          "referenced_widgets": [
            "6aa317aab7ff461e8efc3303b3e1d443",
            "8ff414cfa3934fafa3302ac85e26e89c",
            "9a5c6f8fcfda4607aa057e160ad00303",
            "e01999a3755d44be8a03b02f3c7bd28f",
            "02426e3ed0b140f6a8739868cda2ad6f",
            "964d8bc72c264078979eeefb980eee16",
            "5d1968a6cc384e6985a7085480893535",
            "2902cf9556b94f15bbb8c6ec9dbfcdd6"
          ]
        },
        "id": "u2M0HtB0T594",
        "outputId": "5686b82a-476e-4eec-b66b-258b80559c5c"
      },
      "source": [
        "for epoch in tqdm_notebook(range(1000)):\n",
        "    optimizer.zero_grad()\n",
        "\n",
        "    logits = model(x_train_tensor)\n",
        "    loss = F.binary_cross_entropy(logits, y_train_tensor)\n",
        "\n",
        "    loss.backward()\n",
        "    optimizer.step()\n",
        "\n",
        "    if epoch%100==0:\n",
        "        print(f'epoch:{epoch}, loss:{loss.item():.4f}')  "
      ],
      "execution_count": 65,
      "outputs": [
        {
          "output_type": "stream",
          "text": [
            "/usr/local/lib/python3.7/dist-packages/ipykernel_launcher.py:1: TqdmDeprecationWarning: This function will be removed in tqdm==5.0.0\n",
            "Please use `tqdm.notebook.tqdm` instead of `tqdm.tqdm_notebook`\n",
            "  \"\"\"Entry point for launching an IPython kernel.\n"
          ],
          "name": "stderr"
        },
        {
          "output_type": "display_data",
          "data": {
            "application/vnd.jupyter.widget-view+json": {
              "model_id": "6aa317aab7ff461e8efc3303b3e1d443",
              "version_minor": 0,
              "version_major": 2
            },
            "text/plain": [
              "HBox(children=(FloatProgress(value=0.0, max=1000.0), HTML(value='')))"
            ]
          },
          "metadata": {
            "tags": []
          }
        },
        {
          "output_type": "stream",
          "text": [
            "epoch:0, loss:0.0910\n",
            "epoch:100, loss:0.0838\n",
            "epoch:200, loss:0.0774\n",
            "epoch:300, loss:0.0718\n",
            "epoch:400, loss:0.0667\n",
            "epoch:500, loss:0.0621\n",
            "epoch:600, loss:0.0579\n",
            "epoch:700, loss:0.0541\n",
            "epoch:800, loss:0.0506\n",
            "epoch:900, loss:0.0474\n",
            "\n"
          ],
          "name": "stdout"
        }
      ]
    },
    {
      "cell_type": "code",
      "metadata": {
        "id": "0ZNn2J3uVJ-J"
      },
      "source": [
        "test_pred = model(x_test_tensor)"
      ],
      "execution_count": 66,
      "outputs": []
    },
    {
      "cell_type": "code",
      "metadata": {
        "id": "nDwIGxcqYAeP"
      },
      "source": [
        "prediction = test_pred >= torch.FloatTensor([0.5])\n"
      ],
      "execution_count": 67,
      "outputs": []
    },
    {
      "cell_type": "code",
      "metadata": {
        "colab": {
          "base_uri": "https://localhost:8080/"
        },
        "id": "vQEKZy8xYwH4",
        "outputId": "345cd550-3bfe-4297-e649-c22cf299e131"
      },
      "source": [
        "prediction"
      ],
      "execution_count": 68,
      "outputs": [
        {
          "output_type": "execute_result",
          "data": {
            "text/plain": [
              "tensor([[ True],\n",
              "        [False],\n",
              "        [False],\n",
              "        ...,\n",
              "        [ True],\n",
              "        [ True],\n",
              "        [False]])"
            ]
          },
          "metadata": {
            "tags": []
          },
          "execution_count": 68
        }
      ]
    },
    {
      "cell_type": "code",
      "metadata": {
        "id": "DHS0uyg7YUgf"
      },
      "source": [
        "eval_bool = (prediction==y_test_tensor)"
      ],
      "execution_count": 69,
      "outputs": []
    },
    {
      "cell_type": "code",
      "metadata": {
        "colab": {
          "base_uri": "https://localhost:8080/"
        },
        "id": "cgQhm6puYhYV",
        "outputId": "fadf3b3e-329c-43d8-9864-debf3bc00deb"
      },
      "source": [
        "torch.mean(eval_bool.float())"
      ],
      "execution_count": 70,
      "outputs": [
        {
          "output_type": "execute_result",
          "data": {
            "text/plain": [
              "tensor(0.8360)"
            ]
          },
          "metadata": {
            "tags": []
          },
          "execution_count": 70
        }
      ]
    }
  ]
}