{
  "nbformat": 4,
  "nbformat_minor": 0,
  "metadata": {
    "colab": {
      "name": "Naver_predict.ipynb",
      "provenance": [],
      "collapsed_sections": [],
      "mount_file_id": "1KDxpZqOKXwhFFw7k3VPR0gdoXRuJ3p5w",
      "authorship_tag": "ABX9TyMIpBFMFJmT3wy1qC8ak1QI",
      "include_colab_link": true
    },
    "kernelspec": {
      "name": "python3",
      "display_name": "Python 3"
    }
  },
  "cells": [
    {
      "cell_type": "markdown",
      "metadata": {
        "id": "view-in-github",
        "colab_type": "text"
      },
      "source": [
        "<a href=\"https://colab.research.google.com/github/park-geun-hyeong/AI_service_from_youtube/blob/main/StockPrice_predict/Naver_predict.ipynb\" target=\"_parent\"><img src=\"https://colab.research.google.com/assets/colab-badge.svg\" alt=\"Open In Colab\"/></a>"
      ]
    },
    {
      "cell_type": "code",
      "metadata": {
        "id": "mlihxEjCT2Zt"
      },
      "source": [
        "import pandas as pd\r\n",
        "import numpy as np\r\n",
        "import matplotlib.pyplot as plt\r\n",
        "import seaborn as sns\r\n",
        "%matplotlib inline\r\n",
        "\r\n",
        "import os\r\n",
        "from tqdm import tqdm\r\n",
        "import glob"
      ],
      "execution_count": 1,
      "outputs": []
    },
    {
      "cell_type": "code",
      "metadata": {
        "id": "Zt4JnpALUMzF"
      },
      "source": [
        "path = '/content/drive/MyDrive/Youtube/stock_price_predict' \r\n",
        "\r\n",
        "df = pd.read_csv(path+'/naver_predict.csv') "
      ],
      "execution_count": 23,
      "outputs": []
    },
    {
      "cell_type": "code",
      "metadata": {
        "colab": {
          "base_uri": "https://localhost:8080/",
          "height": 402
        },
        "id": "2Fr1dfFIUb6c",
        "outputId": "49c96074-13d3-4d98-c60b-0d77c59f6e50"
      },
      "source": [
        "df"
      ],
      "execution_count": 24,
      "outputs": [
        {
          "output_type": "execute_result",
          "data": {
            "text/html": [
              "<div>\n",
              "<style scoped>\n",
              "    .dataframe tbody tr th:only-of-type {\n",
              "        vertical-align: middle;\n",
              "    }\n",
              "\n",
              "    .dataframe tbody tr th {\n",
              "        vertical-align: top;\n",
              "    }\n",
              "\n",
              "    .dataframe thead th {\n",
              "        text-align: right;\n",
              "    }\n",
              "</style>\n",
              "<table border=\"1\" class=\"dataframe\">\n",
              "  <thead>\n",
              "    <tr style=\"text-align: right;\">\n",
              "      <th></th>\n",
              "      <th>Date</th>\n",
              "      <th>Open</th>\n",
              "      <th>High</th>\n",
              "      <th>Low</th>\n",
              "      <th>Close</th>\n",
              "      <th>Adj Close</th>\n",
              "      <th>Volume</th>\n",
              "    </tr>\n",
              "  </thead>\n",
              "  <tbody>\n",
              "    <tr>\n",
              "      <th>0</th>\n",
              "      <td>2016-02-29</td>\n",
              "      <td>116000.0</td>\n",
              "      <td>117000.0</td>\n",
              "      <td>114000.0</td>\n",
              "      <td>114400.0</td>\n",
              "      <td>113343.164063</td>\n",
              "      <td>393545.0</td>\n",
              "    </tr>\n",
              "    <tr>\n",
              "      <th>1</th>\n",
              "      <td>2016-03-02</td>\n",
              "      <td>116800.0</td>\n",
              "      <td>122400.0</td>\n",
              "      <td>116200.0</td>\n",
              "      <td>121800.0</td>\n",
              "      <td>120674.804688</td>\n",
              "      <td>595495.0</td>\n",
              "    </tr>\n",
              "    <tr>\n",
              "      <th>2</th>\n",
              "      <td>2016-03-03</td>\n",
              "      <td>123000.0</td>\n",
              "      <td>123000.0</td>\n",
              "      <td>120400.0</td>\n",
              "      <td>122000.0</td>\n",
              "      <td>120872.953125</td>\n",
              "      <td>374365.0</td>\n",
              "    </tr>\n",
              "    <tr>\n",
              "      <th>3</th>\n",
              "      <td>2016-03-04</td>\n",
              "      <td>123000.0</td>\n",
              "      <td>124200.0</td>\n",
              "      <td>120800.0</td>\n",
              "      <td>122600.0</td>\n",
              "      <td>121467.414063</td>\n",
              "      <td>330580.0</td>\n",
              "    </tr>\n",
              "    <tr>\n",
              "      <th>4</th>\n",
              "      <td>2016-03-07</td>\n",
              "      <td>123000.0</td>\n",
              "      <td>123800.0</td>\n",
              "      <td>119800.0</td>\n",
              "      <td>119800.0</td>\n",
              "      <td>118693.281250</td>\n",
              "      <td>379425.0</td>\n",
              "    </tr>\n",
              "    <tr>\n",
              "      <th>...</th>\n",
              "      <td>...</td>\n",
              "      <td>...</td>\n",
              "      <td>...</td>\n",
              "      <td>...</td>\n",
              "      <td>...</td>\n",
              "      <td>...</td>\n",
              "      <td>...</td>\n",
              "    </tr>\n",
              "    <tr>\n",
              "      <th>1221</th>\n",
              "      <td>2021-02-22</td>\n",
              "      <td>400000.0</td>\n",
              "      <td>405500.0</td>\n",
              "      <td>384500.0</td>\n",
              "      <td>386500.0</td>\n",
              "      <td>386500.000000</td>\n",
              "      <td>1289395.0</td>\n",
              "    </tr>\n",
              "    <tr>\n",
              "      <th>1222</th>\n",
              "      <td>2021-02-23</td>\n",
              "      <td>379000.0</td>\n",
              "      <td>394500.0</td>\n",
              "      <td>378500.0</td>\n",
              "      <td>390500.0</td>\n",
              "      <td>390500.000000</td>\n",
              "      <td>1017577.0</td>\n",
              "    </tr>\n",
              "    <tr>\n",
              "      <th>1223</th>\n",
              "      <td>2021-02-24</td>\n",
              "      <td>389500.0</td>\n",
              "      <td>391500.0</td>\n",
              "      <td>374000.0</td>\n",
              "      <td>374000.0</td>\n",
              "      <td>374000.000000</td>\n",
              "      <td>1078485.0</td>\n",
              "    </tr>\n",
              "    <tr>\n",
              "      <th>1224</th>\n",
              "      <td>2021-02-25</td>\n",
              "      <td>380500.0</td>\n",
              "      <td>384500.0</td>\n",
              "      <td>374500.0</td>\n",
              "      <td>383000.0</td>\n",
              "      <td>383000.000000</td>\n",
              "      <td>757476.0</td>\n",
              "    </tr>\n",
              "    <tr>\n",
              "      <th>1225</th>\n",
              "      <td>2021-02-26</td>\n",
              "      <td>372000.0</td>\n",
              "      <td>378500.0</td>\n",
              "      <td>368500.0</td>\n",
              "      <td>375000.0</td>\n",
              "      <td>375000.000000</td>\n",
              "      <td>1170208.0</td>\n",
              "    </tr>\n",
              "  </tbody>\n",
              "</table>\n",
              "<p>1226 rows × 7 columns</p>\n",
              "</div>"
            ],
            "text/plain": [
              "            Date      Open      High  ...     Close      Adj Close     Volume\n",
              "0     2016-02-29  116000.0  117000.0  ...  114400.0  113343.164063   393545.0\n",
              "1     2016-03-02  116800.0  122400.0  ...  121800.0  120674.804688   595495.0\n",
              "2     2016-03-03  123000.0  123000.0  ...  122000.0  120872.953125   374365.0\n",
              "3     2016-03-04  123000.0  124200.0  ...  122600.0  121467.414063   330580.0\n",
              "4     2016-03-07  123000.0  123800.0  ...  119800.0  118693.281250   379425.0\n",
              "...          ...       ...       ...  ...       ...            ...        ...\n",
              "1221  2021-02-22  400000.0  405500.0  ...  386500.0  386500.000000  1289395.0\n",
              "1222  2021-02-23  379000.0  394500.0  ...  390500.0  390500.000000  1017577.0\n",
              "1223  2021-02-24  389500.0  391500.0  ...  374000.0  374000.000000  1078485.0\n",
              "1224  2021-02-25  380500.0  384500.0  ...  383000.0  383000.000000   757476.0\n",
              "1225  2021-02-26  372000.0  378500.0  ...  375000.0  375000.000000  1170208.0\n",
              "\n",
              "[1226 rows x 7 columns]"
            ]
          },
          "metadata": {
            "tags": []
          },
          "execution_count": 24
        }
      ]
    },
    {
      "cell_type": "code",
      "metadata": {
        "colab": {
          "base_uri": "https://localhost:8080/"
        },
        "id": "uDNkZf8B2Sj9",
        "outputId": "86cae7fd-ecbc-4404-a1f7-d2a3cfd9264d"
      },
      "source": [
        "df=df.fillna(method='pad')\r\n",
        "print(df.isna().sum())"
      ],
      "execution_count": 25,
      "outputs": [
        {
          "output_type": "stream",
          "text": [
            "Date         0\n",
            "Open         0\n",
            "High         0\n",
            "Low          0\n",
            "Close        0\n",
            "Adj Close    0\n",
            "Volume       0\n",
            "dtype: int64\n"
          ],
          "name": "stdout"
        }
      ]
    },
    {
      "cell_type": "code",
      "metadata": {
        "colab": {
          "base_uri": "https://localhost:8080/"
        },
        "id": "Jo_zwR6nVM2-",
        "outputId": "1c11124c-2e2b-4652-c96d-a32912a59c40"
      },
      "source": [
        "mid_price = ((df['High']+df['Low'])/2).values\r\n",
        "print(mid_price.shape, type(mid_price))"
      ],
      "execution_count": 26,
      "outputs": [
        {
          "output_type": "stream",
          "text": [
            "(1226,) <class 'numpy.ndarray'>\n"
          ],
          "name": "stdout"
        }
      ]
    },
    {
      "cell_type": "markdown",
      "metadata": {
        "id": "c2fvrJ4gez5j"
      },
      "source": [
        "## Data Window 처리 (50+1개씩)"
      ]
    },
    {
      "cell_type": "code",
      "metadata": {
        "id": "WRR2_E7wVbBU"
      },
      "source": [
        "seq_len = 50\r\n",
        "sequence_length = seq_len + 1\r\n",
        "\r\n",
        "result = []\r\n",
        "for idx in range(len(mid_price)- sequence_length):\r\n",
        "    result.append(mid_price[idx:idx+sequence_length])\r\n"
      ],
      "execution_count": 27,
      "outputs": []
    },
    {
      "cell_type": "markdown",
      "metadata": {
        "id": "KIiRqCAR5NSE"
      },
      "source": [
        "## Data 스케일링"
      ]
    },
    {
      "cell_type": "code",
      "metadata": {
        "id": "ZGUFCAWEiYlZ"
      },
      "source": [
        "from sklearn.preprocessing import StandardScaler\r\n",
        "from sklearn.preprocessing import MinMaxScaler\r\n",
        "\r\n",
        "mm=MinMaxScaler()\r\n",
        "st=StandardScaler()"
      ],
      "execution_count": 28,
      "outputs": []
    },
    {
      "cell_type": "code",
      "metadata": {
        "id": "CpHqU-kwW8pq"
      },
      "source": [
        "result_mm_scaled = mm.fit_transform(result)\r\n",
        "result_st_scaled = st.fit_transform(result)"
      ],
      "execution_count": 29,
      "outputs": []
    },
    {
      "cell_type": "code",
      "metadata": {
        "colab": {
          "base_uri": "https://localhost:8080/"
        },
        "id": "KcNuPwVOYGzJ",
        "outputId": "249959c8-a010-4a3e-abb3-d22f433c7fb6"
      },
      "source": [
        "row = int(round(result_mm_scaled.shape[0]*0.9))\r\n",
        "print(row)"
      ],
      "execution_count": 30,
      "outputs": [
        {
          "output_type": "stream",
          "text": [
            "1058\n"
          ],
          "name": "stdout"
        }
      ]
    },
    {
      "cell_type": "markdown",
      "metadata": {
        "id": "LRaJQtWE5RiF"
      },
      "source": [
        "##train,test dataset나누기"
      ]
    },
    {
      "cell_type": "code",
      "metadata": {
        "id": "8Ti4LjnhYsVg"
      },
      "source": [
        "train1 = result_mm_scaled[:row,:]\r\n",
        "train2 = result_st_scaled[:row,:]\r\n",
        "\r\n",
        "test1 = result_mm_scaled[row:,:]\r\n",
        "test2 = result_st_scaled[row:,:]"
      ],
      "execution_count": 31,
      "outputs": []
    },
    {
      "cell_type": "code",
      "metadata": {
        "id": "hBJrIe6dZGfW"
      },
      "source": [
        "np.random.shuffle(train1)\r\n",
        "np.random.shuffle(train2)"
      ],
      "execution_count": 32,
      "outputs": []
    },
    {
      "cell_type": "code",
      "metadata": {
        "id": "QTQO4FdVZc3z"
      },
      "source": [
        "x_train1 = train1[:,:-1]\r\n",
        "y_train1 = train1[:,-1]\r\n",
        "x_test1 = test1[:, :-1]\r\n",
        "y_test1 = test1[:, -1]\r\n",
        "\r\n",
        "x_train2 = train2[:,:-1]\r\n",
        "y_train2 = train2[:,-1]\r\n",
        "x_test2 = test2[:, :-1]\r\n",
        "y_test2 = test2[:, -1]"
      ],
      "execution_count": 33,
      "outputs": []
    },
    {
      "cell_type": "code",
      "metadata": {
        "colab": {
          "base_uri": "https://localhost:8080/"
        },
        "id": "iSo1Q_zIZ1QK",
        "outputId": "dcc27e86-96ef-42cc-9f09-8ce9bb3ec3cf"
      },
      "source": [
        "x_train1.shape,y_train1.shape,x_test1.shape,y_test1.shape"
      ],
      "execution_count": 34,
      "outputs": [
        {
          "output_type": "execute_result",
          "data": {
            "text/plain": [
              "((1058, 50), (1058,), (117, 50), (117,))"
            ]
          },
          "metadata": {
            "tags": []
          },
          "execution_count": 34
        }
      ]
    },
    {
      "cell_type": "code",
      "metadata": {
        "colab": {
          "base_uri": "https://localhost:8080/"
        },
        "id": "nmYX9xsr1oB6",
        "outputId": "ed018169-c754-418d-ecad-42f4b584a360"
      },
      "source": [
        "x_train2.shape,y_train2.shape,x_test2.shape,y_test2.shape"
      ],
      "execution_count": 35,
      "outputs": [
        {
          "output_type": "execute_result",
          "data": {
            "text/plain": [
              "((1058, 50), (1058,), (117, 50), (117,))"
            ]
          },
          "metadata": {
            "tags": []
          },
          "execution_count": 35
        }
      ]
    },
    {
      "cell_type": "code",
      "metadata": {
        "colab": {
          "base_uri": "https://localhost:8080/"
        },
        "id": "K4udHBwMaEy2",
        "outputId": "55092024-4b08-42bf-8993-db96664751f7"
      },
      "source": [
        "x_train1 = np.reshape(x_train1,(x_train1.shape[0],x_train1.shape[1],1))\r\n",
        "x_test1 = np.reshape(x_test1,(x_test1.shape[0],x_test1.shape[1],1))\r\n",
        "x_train2 = np.reshape(x_train2,(x_train2.shape[0],x_train2.shape[1],1))\r\n",
        "x_test2 = np.reshape(x_test2,(x_test2.shape[0],x_test2.shape[1],1))\r\n",
        "\r\n",
        "x_train1.shape, x_test1.shape,x_train2.shape, x_test2.shape"
      ],
      "execution_count": 36,
      "outputs": [
        {
          "output_type": "execute_result",
          "data": {
            "text/plain": [
              "((1058, 50, 1), (117, 50, 1), (1058, 50, 1), (117, 50, 1))"
            ]
          },
          "metadata": {
            "tags": []
          },
          "execution_count": 36
        }
      ]
    },
    {
      "cell_type": "markdown",
      "metadata": {
        "id": "UnpFlqJV5Yf2"
      },
      "source": [
        "##Model (간단한 LSTM model)"
      ]
    },
    {
      "cell_type": "code",
      "metadata": {
        "id": "i378VqxoabiE"
      },
      "source": [
        "from tensorflow.keras.layers import Dense, LSTM,BatchNormalization\r\n",
        "from tensorflow.keras.models import Sequential  \r\n",
        "from tensorflow.keras.callbacks import ModelCheckpoint"
      ],
      "execution_count": 37,
      "outputs": []
    },
    {
      "cell_type": "code",
      "metadata": {
        "colab": {
          "base_uri": "https://localhost:8080/"
        },
        "id": "_P0Xnxm5a2di",
        "outputId": "1ecb8d3f-95a6-465a-aef0-b121c2f26ba9"
      },
      "source": [
        "model = Sequential()\r\n",
        "\r\n",
        "model.add(LSTM(50, return_sequences=True, input_shape=(50,1)))\r\n",
        "\r\n",
        "model.add(LSTM(64,return_sequences=False))\r\n",
        "\r\n",
        "model.add(Dense(1, activation='linear'))\r\n",
        "\r\n",
        "model.summary()"
      ],
      "execution_count": 38,
      "outputs": [
        {
          "output_type": "stream",
          "text": [
            "Model: \"sequential_1\"\n",
            "_________________________________________________________________\n",
            "Layer (type)                 Output Shape              Param #   \n",
            "=================================================================\n",
            "lstm_2 (LSTM)                (None, 50, 50)            10400     \n",
            "_________________________________________________________________\n",
            "lstm_3 (LSTM)                (None, 64)                29440     \n",
            "_________________________________________________________________\n",
            "dense_1 (Dense)              (None, 1)                 65        \n",
            "=================================================================\n",
            "Total params: 39,905\n",
            "Trainable params: 39,905\n",
            "Non-trainable params: 0\n",
            "_________________________________________________________________\n"
          ],
          "name": "stdout"
        }
      ]
    },
    {
      "cell_type": "code",
      "metadata": {
        "id": "eERbeSLjbNNg"
      },
      "source": [
        "model.compile(optimizer='rmsprop', loss='mean_squared_error')"
      ],
      "execution_count": 39,
      "outputs": []
    },
    {
      "cell_type": "code",
      "metadata": {
        "colab": {
          "base_uri": "https://localhost:8080/"
        },
        "id": "_GPKqQhLbWiO",
        "outputId": "19c98190-d333-4bc7-d306-d61008b4f141"
      },
      "source": [
        "model.fit(x_train1, y_train1 ,epochs=20, batch_size=16, verbose=1,validation_data=(x_test1,y_test1))"
      ],
      "execution_count": 40,
      "outputs": [
        {
          "output_type": "stream",
          "text": [
            "Epoch 1/20\n",
            "67/67 [==============================] - 7s 49ms/step - loss: 0.0042 - val_loss: 0.0053\n",
            "Epoch 2/20\n",
            "67/67 [==============================] - 3s 40ms/step - loss: 0.0010 - val_loss: 0.0043\n",
            "Epoch 3/20\n",
            "67/67 [==============================] - 3s 40ms/step - loss: 8.5681e-04 - val_loss: 0.0049\n",
            "Epoch 4/20\n",
            "67/67 [==============================] - 3s 40ms/step - loss: 9.1030e-04 - val_loss: 0.0057\n",
            "Epoch 5/20\n",
            "67/67 [==============================] - 3s 41ms/step - loss: 7.0767e-04 - val_loss: 0.0010\n",
            "Epoch 6/20\n",
            "67/67 [==============================] - 3s 40ms/step - loss: 6.3928e-04 - val_loss: 0.0706\n",
            "Epoch 7/20\n",
            "67/67 [==============================] - 3s 40ms/step - loss: 0.0011 - val_loss: 0.0014\n",
            "Epoch 8/20\n",
            "67/67 [==============================] - 3s 41ms/step - loss: 5.4527e-04 - val_loss: 0.0018\n",
            "Epoch 9/20\n",
            "67/67 [==============================] - 3s 41ms/step - loss: 4.2277e-04 - val_loss: 0.0010\n",
            "Epoch 10/20\n",
            "67/67 [==============================] - 3s 40ms/step - loss: 3.4328e-04 - val_loss: 0.0027\n",
            "Epoch 11/20\n",
            "67/67 [==============================] - 3s 41ms/step - loss: 4.6157e-04 - val_loss: 7.5329e-04\n",
            "Epoch 12/20\n",
            "67/67 [==============================] - 3s 41ms/step - loss: 2.9501e-04 - val_loss: 0.0067\n",
            "Epoch 13/20\n",
            "67/67 [==============================] - 3s 41ms/step - loss: 3.3017e-04 - val_loss: 0.0013\n",
            "Epoch 14/20\n",
            "67/67 [==============================] - 3s 40ms/step - loss: 3.0209e-04 - val_loss: 6.3692e-04\n",
            "Epoch 15/20\n",
            "67/67 [==============================] - 3s 41ms/step - loss: 2.6506e-04 - val_loss: 6.5654e-04\n",
            "Epoch 16/20\n",
            "67/67 [==============================] - 3s 41ms/step - loss: 2.5159e-04 - val_loss: 7.3236e-04\n",
            "Epoch 17/20\n",
            "67/67 [==============================] - 3s 41ms/step - loss: 2.8325e-04 - val_loss: 8.4871e-04\n",
            "Epoch 18/20\n",
            "67/67 [==============================] - 3s 43ms/step - loss: 2.5287e-04 - val_loss: 6.1931e-04\n",
            "Epoch 19/20\n",
            "67/67 [==============================] - 3s 41ms/step - loss: 2.5166e-04 - val_loss: 4.7962e-04\n",
            "Epoch 20/20\n",
            "67/67 [==============================] - 3s 40ms/step - loss: 2.2211e-04 - val_loss: 6.5516e-04\n"
          ],
          "name": "stdout"
        },
        {
          "output_type": "execute_result",
          "data": {
            "text/plain": [
              "<tensorflow.python.keras.callbacks.History at 0x7fdd0f83a190>"
            ]
          },
          "metadata": {
            "tags": []
          },
          "execution_count": 40
        }
      ]
    },
    {
      "cell_type": "code",
      "metadata": {
        "id": "5sb_kT2k2CCi"
      },
      "source": [
        "pred= model.predict(x_test1)"
      ],
      "execution_count": 42,
      "outputs": []
    },
    {
      "cell_type": "code",
      "metadata": {
        "colab": {
          "base_uri": "https://localhost:8080/"
        },
        "id": "0SpiXdRK38tV",
        "outputId": "e4eee3a3-30b0-408a-8666-aed58f3aa241"
      },
      "source": [
        "model2 = Sequential()\r\n",
        "\r\n",
        "model2.add(LSTM(50, return_sequences=True, input_shape=(50,1)))\r\n",
        "\r\n",
        "model2.add(LSTM(64,return_sequences=False))\r\n",
        "\r\n",
        "model2.add(Dense(1, activation='linear'))\r\n",
        "\r\n",
        "model2.summary()"
      ],
      "execution_count": 47,
      "outputs": [
        {
          "output_type": "stream",
          "text": [
            "Model: \"sequential_2\"\n",
            "_________________________________________________________________\n",
            "Layer (type)                 Output Shape              Param #   \n",
            "=================================================================\n",
            "lstm_4 (LSTM)                (None, 50, 50)            10400     \n",
            "_________________________________________________________________\n",
            "lstm_5 (LSTM)                (None, 64)                29440     \n",
            "_________________________________________________________________\n",
            "dense_2 (Dense)              (None, 1)                 65        \n",
            "=================================================================\n",
            "Total params: 39,905\n",
            "Trainable params: 39,905\n",
            "Non-trainable params: 0\n",
            "_________________________________________________________________\n"
          ],
          "name": "stdout"
        }
      ]
    },
    {
      "cell_type": "code",
      "metadata": {
        "id": "iLdkQtSd4Amw"
      },
      "source": [
        "model.compile(optimizer='rmsprop', loss='mean_squared_error')"
      ],
      "execution_count": 48,
      "outputs": []
    },
    {
      "cell_type": "code",
      "metadata": {
        "colab": {
          "base_uri": "https://localhost:8080/"
        },
        "id": "OjZ7Ng8E4DGh",
        "outputId": "deb66b3c-0136-4537-ca7b-38a5c7e2e043"
      },
      "source": [
        "model.fit(x_train2, y_train2 ,epochs=20, batch_size=16, verbose=1,validation_data=(x_test2,y_test2))"
      ],
      "execution_count": 49,
      "outputs": [
        {
          "output_type": "stream",
          "text": [
            "Epoch 1/20\n",
            "67/67 [==============================] - 7s 52ms/step - loss: 0.0062 - val_loss: 0.0216\n",
            "Epoch 2/20\n",
            "67/67 [==============================] - 3s 40ms/step - loss: 0.0036 - val_loss: 0.0186\n",
            "Epoch 3/20\n",
            "67/67 [==============================] - 3s 41ms/step - loss: 0.0037 - val_loss: 0.0210\n",
            "Epoch 4/20\n",
            "67/67 [==============================] - 3s 41ms/step - loss: 0.0037 - val_loss: 0.0233\n",
            "Epoch 5/20\n",
            "67/67 [==============================] - 3s 41ms/step - loss: 0.0035 - val_loss: 0.0382\n",
            "Epoch 6/20\n",
            "67/67 [==============================] - 3s 41ms/step - loss: 0.0034 - val_loss: 0.0193\n",
            "Epoch 7/20\n",
            "67/67 [==============================] - 3s 41ms/step - loss: 0.0033 - val_loss: 0.0243\n",
            "Epoch 8/20\n",
            "67/67 [==============================] - 3s 42ms/step - loss: 0.0029 - val_loss: 0.0822\n",
            "Epoch 9/20\n",
            "67/67 [==============================] - 3s 42ms/step - loss: 0.0033 - val_loss: 0.0258\n",
            "Epoch 10/20\n",
            "67/67 [==============================] - 3s 41ms/step - loss: 0.0031 - val_loss: 0.1301\n",
            "Epoch 11/20\n",
            "67/67 [==============================] - 3s 41ms/step - loss: 0.0035 - val_loss: 0.0282\n",
            "Epoch 12/20\n",
            "67/67 [==============================] - 3s 41ms/step - loss: 0.0034 - val_loss: 0.1026\n",
            "Epoch 13/20\n",
            "67/67 [==============================] - 3s 40ms/step - loss: 0.0037 - val_loss: 0.0286\n",
            "Epoch 14/20\n",
            "67/67 [==============================] - 3s 41ms/step - loss: 0.0033 - val_loss: 0.0235\n",
            "Epoch 15/20\n",
            "67/67 [==============================] - 3s 43ms/step - loss: 0.0031 - val_loss: 0.0316\n",
            "Epoch 16/20\n",
            "67/67 [==============================] - 3s 40ms/step - loss: 0.0030 - val_loss: 0.0301\n",
            "Epoch 17/20\n",
            "67/67 [==============================] - 3s 41ms/step - loss: 0.0028 - val_loss: 0.0542\n",
            "Epoch 18/20\n",
            "67/67 [==============================] - 3s 41ms/step - loss: 0.0031 - val_loss: 0.0449\n",
            "Epoch 19/20\n",
            "67/67 [==============================] - 3s 41ms/step - loss: 0.0030 - val_loss: 0.0273\n",
            "Epoch 20/20\n",
            "67/67 [==============================] - 3s 41ms/step - loss: 0.0036 - val_loss: 0.0500\n"
          ],
          "name": "stdout"
        },
        {
          "output_type": "execute_result",
          "data": {
            "text/plain": [
              "<tensorflow.python.keras.callbacks.History at 0x7fdd098a9890>"
            ]
          },
          "metadata": {
            "tags": []
          },
          "execution_count": 49
        }
      ]
    },
    {
      "cell_type": "markdown",
      "metadata": {
        "id": "ZwDD-HOu5efb"
      },
      "source": [
        "## 실제 주식값과 인공지능이 예측한 주식값 그래프로 비교해보기"
      ]
    },
    {
      "cell_type": "code",
      "metadata": {
        "colab": {
          "base_uri": "https://localhost:8080/",
          "height": 607
        },
        "id": "3rDGscex4Iai",
        "outputId": "bcdd6066-829a-497c-a807-6e916a8a87ae"
      },
      "source": [
        "pred2= model.predict(x_test2)\r\n",
        "\r\n",
        "fig,ax=plt.subplots(1,1 ,figsize=(12,10))\r\n",
        "ax.plot(y_test2,color='b')\r\n",
        "ax.plot(pred2,color='r')\r\n",
        "ax.set_title(\"predict and real value(scaling =standardscaler)\")\r\n",
        "ax.legend(['real','predict'],loc='upper left')\r\n",
        "plt.show()"
      ],
      "execution_count": 50,
      "outputs": [
        {
          "output_type": "display_data",
          "data": {
            "image/png": "[encoded data removed]",
            "text/plain": [
              "<Figure size 864x720 with 1 Axes>"
            ]
          },
          "metadata": {
            "tags": [],
            "needs_background": "light"
          }
        }
      ]
    },
    {
      "cell_type": "code",
      "metadata": {
        "colab": {
          "base_uri": "https://localhost:8080/",
          "height": 607
        },
        "id": "SOCrUL544c6S",
        "outputId": "7c50ef5f-f5aa-42fd-e7c7-538d9d66ba86"
      },
      "source": [
        "fig,ax=plt.subplots(1,1 ,figsize=(12,10))\r\n",
        "ax.plot(y_test1,color='b')\r\n",
        "ax.plot(pred,color='r')\r\n",
        "ax.set_title(\"predict and real value(scaling=MinMaxScaled)\")\r\n",
        "ax.legend(['real','predict'],loc='upper left')\r\n",
        "plt.show()"
      ],
      "execution_count": 51,
      "outputs": [
        {
          "output_type": "display_data",
          "data": {
            "image/png": "[encoded data removed]",
            "text/plain": [
              "<Figure size 864x720 with 1 Axes>"
            ]
          },
          "metadata": {
            "tags": [],
            "needs_background": "light"
          }
        }
      ]
    }
  ]
}